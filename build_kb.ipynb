{
 "cells": [
  {
   "cell_type": "markdown",
   "metadata": {
    "heading_collapsed": true
   },
   "source": [
    "# Table of Contents\n",
    "* [Explore TQA](#Explore-TQA)\n",
    "\t* [load](#load)\n",
    "* [extract sentences](#extract-sentences)\n",
    "\t* [counts](#counts)\n",
    "* [Explore existing](#Explore-existing)\n"
   ]
  },
  {
   "cell_type": "code",
   "execution_count": 1,
   "metadata": {
    "collapsed": true,
    "hidden": true,
    "run_control": {
     "frozen": false,
     "read_only": false
    }
   },
   "outputs": [],
   "source": [
    "import numpy as np\n",
    "import pandas as pd\n",
    "import scipy as st\n",
    "\n",
    "import pickle\n",
    "from collections import defaultdict\n",
    "import json\n",
    "import os\n",
    "import random\n",
    "from copy import deepcopy"
   ]
  },
  {
   "cell_type": "code",
   "execution_count": 2,
   "metadata": {
    "collapsed": true,
    "hidden": true,
    "run_control": {
     "frozen": false,
     "read_only": false
    }
   },
   "outputs": [],
   "source": [
    "import nltk\n",
    "import string\n",
    "from nltk.corpus import stopwords\n",
    "from sklearn.feature_extraction.text import TfidfVectorizer\n",
    "from nltk.tokenize import word_tokenize\n",
    "from nltk.tokenize import sent_tokenize\n",
    "\n",
    "from nltk.stem.porter import PorterStemmer\n",
    "from nltk.stem.snowball import SnowballStemmer\n",
    "from nltk.stem.wordnet import WordNetLemmatizer"
   ]
  },
  {
   "cell_type": "code",
   "execution_count": 3,
   "metadata": {
    "collapsed": true,
    "hidden": true,
    "run_control": {
     "frozen": false,
     "read_only": false
    }
   },
   "outputs": [],
   "source": [
    "%%capture\n",
    "import matplotlib as mpl\n",
    "mpl.use(\"Agg\")\n",
    "import matplotlib.pylab as plt\n",
    "#%matplotlib notebook\n",
    "%matplotlib inline\n",
    "%load_ext base16_mplrc\n",
    "%base16_mplrc light solarized\n",
    "#%base16_mplrc dark solarized\n",
    "plt.rcParams['grid.linewidth'] = 0\n",
    "plt.rcParams['figure.figsize'] = (16.0, 10.0)"
   ]
  },
  {
   "cell_type": "markdown",
   "metadata": {},
   "source": [
    "# Explore TQA"
   ]
  },
  {
   "cell_type": "markdown",
   "metadata": {
    "heading_collapsed": true
   },
   "source": [
    "## load"
   ]
  },
  {
   "cell_type": "code",
   "execution_count": 4,
   "metadata": {
    "collapsed": true,
    "hidden": true,
    "run_control": {
     "frozen": false,
     "read_only": false
    }
   },
   "outputs": [],
   "source": [
    "dataset_root_dir = './data_sources/'\n",
    "tqa_file = 'tqa_v10_no_sa.json'\n",
    "data_path =  os.path.join(dataset_root_dir, tqa_file)\n",
    "\n",
    "with open(os.path.join(data_path), 'r') as f:\n",
    "    ck12_combined_dataset_raw = json.load(f)\n",
    "\n",
    "ck12_combined_dataset = deepcopy(ck12_combined_dataset_raw)"
   ]
  },
  {
   "cell_type": "markdown",
   "metadata": {},
   "source": [
    "## extract sentences"
   ]
  },
  {
   "cell_type": "code",
   "execution_count": 5,
   "metadata": {
    "collapsed": true,
    "run_control": {
     "frozen": false,
     "read_only": false
    }
   },
   "outputs": [],
   "source": [
    "def dict_key_extract(key, var):\n",
    "    if hasattr(var, 'items'):\n",
    "        for k, v in var.items():\n",
    "            if k == key:\n",
    "                yield v\n",
    "            if isinstance(v, dict):\n",
    "                for result in dict_key_extract(key, v):\n",
    "                    yield result\n",
    "            elif isinstance(v, list):\n",
    "                for d in v:\n",
    "                    for result in dict_key_extract(key, d):\n",
    "                        yield result"
   ]
  },
  {
   "cell_type": "code",
   "execution_count": 207,
   "metadata": {
    "collapsed": true,
    "run_control": {
     "frozen": false,
     "read_only": false
    }
   },
   "outputs": [],
   "source": [
    "vocabs = [list(dict_key_extract('Vocabulary', lesson))[0] for lesson in ck12_combined_dataset]\n",
    "\n",
    "vocab_dict = dict(pair for d in vocabs for pair in d.items())\n",
    "vocab_with_def = {w: d for w, d in vocab_dict.items() if d}\n",
    "\n",
    "# with open('tqa_vocab_dict.json', 'w') as f:\n",
    "#     json.dump(vocab_with_def, f, sort_keys=True, indent=4)"
   ]
  },
  {
   "cell_type": "code",
   "execution_count": 600,
   "metadata": {
    "collapsed": true
   },
   "outputs": [],
   "source": [
    "import copy"
   ]
  },
  {
   "cell_type": "code",
   "execution_count": 601,
   "metadata": {
    "collapsed": true
   },
   "outputs": [],
   "source": [
    "preserve_lesson_paragraphs = copy.deepcopy(lessons_paragraphs)"
   ]
  },
  {
   "cell_type": "code",
   "execution_count": 6,
   "metadata": {
    "collapsed": true,
    "run_control": {
     "frozen": false,
     "read_only": false
    }
   },
   "outputs": [],
   "source": [
    "lessons_paragraphs = {lesson['globalID']: list(dict_key_extract('text', lesson)) for lesson in ck12_combined_dataset}"
   ]
  },
  {
   "cell_type": "code",
   "execution_count": null,
   "metadata": {
    "collapsed": true
   },
   "outputs": [],
   "source": [
    "cleaned_lesso"
   ]
  },
  {
   "cell_type": "code",
   "execution_count": 9,
   "metadata": {
    "code_folding": [],
    "collapsed": true,
    "run_control": {
     "frozen": false,
     "marked": false,
     "read_only": false
    }
   },
   "outputs": [],
   "source": [
    "for topic in list(lessons_paragraphs.values()):\n",
    "    for par in topic:\n",
    "        topic_sentences = sent_tokenize(par)\n",
    "        topic_sentences  = [sent for sent in topic_sentences if  len(sent) > 10 and sent[-1] == '.']\n",
    "        all_sentences += topic_sentences"
   ]
  },
  {
   "cell_type": "code",
   "execution_count": 193,
   "metadata": {
    "collapsed": true,
    "run_control": {
     "frozen": false,
     "read_only": false
    }
   },
   "outputs": [],
   "source": [
    "cause_phrases = [' cause', 'leads to', 'produce', 'generates', ' create', 'due to']"
   ]
  },
  {
   "cell_type": "code",
   "execution_count": 12,
   "metadata": {
    "collapsed": true,
    "run_control": {
     "frozen": false,
     "read_only": false
    }
   },
   "outputs": [],
   "source": [
    "leads_sents = [sent for sent in all_sentences if ' leads to' in sent.lower()]"
   ]
  },
  {
   "cell_type": "code",
   "execution_count": 13,
   "metadata": {
    "collapsed": true,
    "run_control": {
     "frozen": false,
     "read_only": false
    }
   },
   "outputs": [],
   "source": [
    "produces_sents = [sent for sent in all_sentences if ' produces' in sent.lower()]"
   ]
  },
  {
   "cell_type": "code",
   "execution_count": 14,
   "metadata": {
    "collapsed": true,
    "run_control": {
     "frozen": false,
     "read_only": false
    }
   },
   "outputs": [],
   "source": [
    "generates_sents = [sent for sent in all_sentences if 'generates' in sent.lower()]"
   ]
  },
  {
   "cell_type": "code",
   "execution_count": 15,
   "metadata": {
    "run_control": {
     "frozen": false,
     "read_only": false
    }
   },
   "outputs": [
    {
     "data": {
      "text/plain": [
       "2242"
      ]
     },
     "execution_count": 15,
     "metadata": {},
     "output_type": "execute_result"
    }
   ],
   "source": [
    "all_sents = [sent for sent in all_sentences if any(phrase in sent.lower() for phrase in cause_phrases)]\n",
    "len(all_sents)"
   ]
  },
  {
   "cell_type": "code",
   "execution_count": 346,
   "metadata": {
    "run_control": {
     "frozen": false,
     "read_only": false
    }
   },
   "outputs": [],
   "source": [
    "cause_sents = []\n",
    "cause_and_proceed = []\n",
    "for idx, sent in enumerate(all_sentences):\n",
    "    if ' cause' in sent.lower() and any(x in sent.lower().split()[0] for x in ['this', 'it ']):\n",
    "        cause_and_proceed.append((all_sentences[idx - 1], sent))\n",
    "    elif ' causes' in sent.lower() or ' caused' in sent.lower():\n",
    "        cause_sents.append(sent)"
   ]
  },
  {
   "cell_type": "code",
   "execution_count": 347,
   "metadata": {
    "collapsed": true,
    "run_control": {
     "frozen": false,
     "read_only": false
    }
   },
   "outputs": [],
   "source": [
    "def build_cause_effect_rel(cause_sentences):\n",
    "    effect = ' '.join(cause_sentences[1].split()[2:])\n",
    "    cause = cause_sentences[0]\n",
    "    return {'cause': cause, 'effect': effect, 'source': ' '.join(cause_sentences)}\n",
    "\n",
    "def build_cause_effect_rel_1(cause_sentence):\n",
    "    sent_parts = cause_sentence.lower().split(' cause')\n",
    "    print(sent_parts)\n",
    "    if sent_parts[1][0] == 's':\n",
    "        cause = sent_parts[0]\n",
    "        effect = sent_parts[1][2:]\n",
    "    elif sent_parts[1][0] == 'd':\n",
    "        effect = sent_parts[0]\n",
    "        cause = sent_parts[1][2:]\n",
    "    else:\n",
    "        return {}\n",
    "    return {'cause': cause, 'effect': effect, 'source': cause_sentence}"
   ]
  },
  {
   "cell_type": "code",
   "execution_count": 350,
   "metadata": {
    "run_control": {
     "frozen": false,
     "read_only": false
    }
   },
   "outputs": [
    {
     "data": {
      "text/plain": [
       "112"
      ]
     },
     "execution_count": 350,
     "metadata": {},
     "output_type": "execute_result"
    }
   ],
   "source": [
    "c_and_e_relationships = [build_cause_effect_rel(ce) for ce in cause_and_proceed]\n",
    "len(c_and_e_relationships)"
   ]
  },
  {
   "cell_type": "code",
   "execution_count": 378,
   "metadata": {
    "collapsed": true
   },
   "outputs": [],
   "source": [
    "all_causes_and_effects = c_and_e_relationships + c_and_e_relationships_1"
   ]
  },
  {
   "cell_type": "code",
   "execution_count": 380,
   "metadata": {},
   "outputs": [],
   "source": [
    "tqa_c_and_e_df = pd.DataFrame(all_causes_and_effects)"
   ]
  },
  {
   "cell_type": "code",
   "execution_count": 381,
   "metadata": {},
   "outputs": [],
   "source": [
    "tqa_c_and_e_df.to_csv('tqa_exctracted_rel_v0.tsv', index=False, sep='\\t')"
   ]
  },
  {
   "cell_type": "code",
   "execution_count": 599,
   "metadata": {
    "scrolled": true
   },
   "outputs": [
    {
     "data": {
      "text/html": [
       "<div>\n",
       "<style>\n",
       "    .dataframe thead tr:only-child th {\n",
       "        text-align: right;\n",
       "    }\n",
       "\n",
       "    .dataframe thead th {\n",
       "        text-align: left;\n",
       "    }\n",
       "\n",
       "    .dataframe tbody tr th {\n",
       "        vertical-align: top;\n",
       "    }\n",
       "</style>\n",
       "<table border=\"1\" class=\"dataframe\">\n",
       "  <thead>\n",
       "    <tr style=\"text-align: right;\">\n",
       "      <th></th>\n",
       "      <th>cause</th>\n",
       "      <th>effect</th>\n",
       "      <th>source</th>\n",
       "    </tr>\n",
       "  </thead>\n",
       "  <tbody>\n",
       "    <tr>\n",
       "      <th>0</th>\n",
       "      <td>A mountain stream flows very quickly because o...</td>\n",
       "      <td>a lot of erosion and very little deposition.</td>\n",
       "      <td>A mountain stream flows very quickly because o...</td>\n",
       "    </tr>\n",
       "    <tr>\n",
       "      <th>1</th>\n",
       "      <td>The water erodes the softer rock faster than t...</td>\n",
       "      <td>the stream bed to drop down, like a step, crea...</td>\n",
       "      <td>The water erodes the softer rock faster than t...</td>\n",
       "    </tr>\n",
       "    <tr>\n",
       "      <th>2</th>\n",
       "      <td>Most waves strike the shore at an angle.</td>\n",
       "      <td>longshore drift.</td>\n",
       "      <td>Most waves strike the shore at an angle. This ...</td>\n",
       "    </tr>\n",
       "    <tr>\n",
       "      <th>3</th>\n",
       "      <td>Dust flew into the atmosphere and blocked sunl...</td>\n",
       "      <td>a deep freeze and ended photosynthesis.</td>\n",
       "      <td>Dust flew into the atmosphere and blocked sunl...</td>\n",
       "    </tr>\n",
       "    <tr>\n",
       "      <th>4</th>\n",
       "      <td>As a result: Water on the side of Earth facing...</td>\n",
       "      <td>a bulge of water on that side of Earth.</td>\n",
       "      <td>As a result: Water on the side of Earth facing...</td>\n",
       "    </tr>\n",
       "    <tr>\n",
       "      <th>5</th>\n",
       "      <td>If the water freezes, it expands.</td>\n",
       "      <td>causes the rocks to crack.</td>\n",
       "      <td>If the water freezes, it expands. This eventua...</td>\n",
       "    </tr>\n",
       "    <tr>\n",
       "      <th>6</th>\n",
       "      <td>Earth is spinning as air moves over its surface.</td>\n",
       "      <td>the Coriolis effect.</td>\n",
       "      <td>Earth is spinning as air moves over its surfac...</td>\n",
       "    </tr>\n",
       "    <tr>\n",
       "      <th>7</th>\n",
       "      <td>An ice age is a period when temperatures are c...</td>\n",
       "      <td>glaciers to spread to lower latitudes.</td>\n",
       "      <td>An ice age is a period when temperatures are c...</td>\n",
       "    </tr>\n",
       "    <tr>\n",
       "      <th>8</th>\n",
       "      <td>Figure 17.23 shows how much less sea ice there...</td>\n",
       "      <td>cause sea level to rise even higher.</td>\n",
       "      <td>Figure 17.23 shows how much less sea ice there...</td>\n",
       "    </tr>\n",
       "    <tr>\n",
       "      <th>9</th>\n",
       "      <td>During an El Nio, the western Pacific Ocean is...</td>\n",
       "      <td>the trade winds to change direction.</td>\n",
       "      <td>During an El Nio, the western Pacific Ocean is...</td>\n",
       "    </tr>\n",
       "    <tr>\n",
       "      <th>10</th>\n",
       "      <td>As the death rate fell, the birth rate stayed ...</td>\n",
       "      <td>rapid population growth.</td>\n",
       "      <td>As the death rate fell, the birth rate stayed ...</td>\n",
       "    </tr>\n",
       "    <tr>\n",
       "      <th>11</th>\n",
       "      <td>Burning fossil fuels pollutes the air.</td>\n",
       "      <td>increases causes global warming.</td>\n",
       "      <td>Burning fossil fuels pollutes the air. This al...</td>\n",
       "    </tr>\n",
       "    <tr>\n",
       "      <th>12</th>\n",
       "      <td>Many people must drink water that contains was...</td>\n",
       "      <td>a lot of illness and death.</td>\n",
       "      <td>Many people must drink water that contains was...</td>\n",
       "    </tr>\n",
       "    <tr>\n",
       "      <th>13</th>\n",
       "      <td>Thermal pollution is pollution that raises the...</td>\n",
       "      <td>caused by power plants and factories that use ...</td>\n",
       "      <td>Thermal pollution is pollution that raises the...</td>\n",
       "    </tr>\n",
       "    <tr>\n",
       "      <th>14</th>\n",
       "      <td>Large meteorites broke through the Moons newly...</td>\n",
       "      <td>magma to flow out and fill the craters.</td>\n",
       "      <td>Large meteorites broke through the Moons newly...</td>\n",
       "    </tr>\n",
       "    <tr>\n",
       "      <th>15</th>\n",
       "      <td>As the Moon moves around the Earth, we see dif...</td>\n",
       "      <td>the phases of the Moon.</td>\n",
       "      <td>As the Moon moves around the Earth, we see dif...</td>\n",
       "    </tr>\n",
       "    <tr>\n",
       "      <th>16</th>\n",
       "      <td>The pressure at the center of a star is great ...</td>\n",
       "      <td>nuclear fusion reactions.</td>\n",
       "      <td>The pressure at the center of a star is great ...</td>\n",
       "    </tr>\n",
       "    <tr>\n",
       "      <th>17</th>\n",
       "      <td>Burning gasoline also produces carbon dioxide.</td>\n",
       "      <td>a greenhouse gas and is a cause of global warm...</td>\n",
       "      <td>Burning gasoline also produces carbon dioxide....</td>\n",
       "    </tr>\n",
       "    <tr>\n",
       "      <th>18</th>\n",
       "      <td>Seismic waves change speed as they move throug...</td>\n",
       "      <td>them to bend.</td>\n",
       "      <td>Seismic waves change speed as they move throug...</td>\n",
       "    </tr>\n",
       "    <tr>\n",
       "      <th>19</th>\n",
       "      <td>An earthquake is sudden ground movement.</td>\n",
       "      <td>is caused by the sudden release of the energy ...</td>\n",
       "      <td>An earthquake is sudden ground movement. This ...</td>\n",
       "    </tr>\n",
       "    <tr>\n",
       "      <th>20</th>\n",
       "      <td>They settled into the muck.</td>\n",
       "      <td>enormous damage.</td>\n",
       "      <td>They settled into the muck. This caused enormo...</td>\n",
       "    </tr>\n",
       "    <tr>\n",
       "      <th>21</th>\n",
       "      <td>This is the result of magma pushing upward int...</td>\n",
       "      <td>causes stresses on neighboring rock to build up.</td>\n",
       "      <td>This is the result of magma pushing upward int...</td>\n",
       "    </tr>\n",
       "    <tr>\n",
       "      <th>22</th>\n",
       "      <td>In six months, after Earth moves from one side...</td>\n",
       "      <td>parallax causes the star to appear in a differ...</td>\n",
       "      <td>In six months, after Earth moves from one side...</td>\n",
       "    </tr>\n",
       "    <tr>\n",
       "      <th>23</th>\n",
       "      <td>But space itself is stretching out between gal...</td>\n",
       "      <td>of space, which increases the distance between...</td>\n",
       "      <td>But space itself is stretching out between gal...</td>\n",
       "    </tr>\n",
       "    <tr>\n",
       "      <th>24</th>\n",
       "      <td>This was the only known mass extinction of ins...</td>\n",
       "      <td>extinction appears to have taken place in thre...</td>\n",
       "      <td>This was the only known mass extinction of ins...</td>\n",
       "    </tr>\n",
       "    <tr>\n",
       "      <th>25</th>\n",
       "      <td>If precipitation falls as the air rises over t...</td>\n",
       "      <td>sinking air causes a rainshadow effect (Figure...</td>\n",
       "      <td>If precipitation falls as the air rises over t...</td>\n",
       "    </tr>\n",
       "    <tr>\n",
       "      <th>26</th>\n",
       "      <td>You can trace the deformation a rock has exper...</td>\n",
       "      <td>produces geologic structures such as folds, jo...</td>\n",
       "      <td>You can trace the deformation a rock has exper...</td>\n",
       "    </tr>\n",
       "    <tr>\n",
       "      <th>27</th>\n",
       "      <td>Although the stars move across the sky, they s...</td>\n",
       "      <td>because the apparent nightly motion of the sta...</td>\n",
       "      <td>Although the stars move across the sky, they s...</td>\n",
       "    </tr>\n",
       "    <tr>\n",
       "      <th>28</th>\n",
       "      <td>The warm air near the surface rises and cool a...</td>\n",
       "      <td>causes the temperature gradient to vary with t...</td>\n",
       "      <td>The warm air near the surface rises and cool a...</td>\n",
       "    </tr>\n",
       "    <tr>\n",
       "      <th>29</th>\n",
       "      <td>As with wind waves, the speed of the bottom of...</td>\n",
       "      <td>the wavelength to decrease and the wave to bec...</td>\n",
       "      <td>As with wind waves, the speed of the bottom of...</td>\n",
       "    </tr>\n",
       "    <tr>\n",
       "      <th>...</th>\n",
       "      <td>...</td>\n",
       "      <td>...</td>\n",
       "      <td>...</td>\n",
       "    </tr>\n",
       "    <tr>\n",
       "      <th>722</th>\n",
       "      <td>friction</td>\n",
       "      <td>the molecules on rubbing surfaces to move fast...</td>\n",
       "      <td>Friction causes the molecules on rubbing surfa...</td>\n",
       "    </tr>\n",
       "    <tr>\n",
       "      <th>723</th>\n",
       "      <td>when the oval window vibrates, it</td>\n",
       "      <td>the cochlea to vibrate as well.</td>\n",
       "      <td>When the oval window vibrates, it causes the c...</td>\n",
       "    </tr>\n",
       "    <tr>\n",
       "      <th>724</th>\n",
       "      <td>when the cochlea vibrates, it</td>\n",
       "      <td>waves in the fluid inside.</td>\n",
       "      <td>When the cochlea vibrates, it causes waves in ...</td>\n",
       "    </tr>\n",
       "    <tr>\n",
       "      <th>725</th>\n",
       "      <td>by loud sounds can be prevented by protecting ...</td>\n",
       "      <td>hearing loss</td>\n",
       "      <td>Hearing loss caused by loud sounds can be prev...</td>\n",
       "    </tr>\n",
       "    <tr>\n",
       "      <th>726</th>\n",
       "      <td>by loud sounds is permanent.</td>\n",
       "      <td>hearing loss</td>\n",
       "      <td>Hearing loss caused by loud sounds is permanent.</td>\n",
       "    </tr>\n",
       "    <tr>\n",
       "      <th>727</th>\n",
       "      <td>he proposed that natural events such as lightn...</td>\n",
       "      <td></td>\n",
       "      <td>He proposed that natural events such as lightn...</td>\n",
       "    </tr>\n",
       "    <tr>\n",
       "      <th>728</th>\n",
       "      <td>a: natural</td>\n",
       "      <td>can be investigated and understood, whereas go...</td>\n",
       "      <td>A: Natural causes can be investigated and unde...</td>\n",
       "    </tr>\n",
       "    <tr>\n",
       "      <th>729</th>\n",
       "      <td>the turning driveshaft</td>\n",
       "      <td>the wheels of the car to turn.</td>\n",
       "      <td>The turning driveshaft causes the wheels of th...</td>\n",
       "    </tr>\n",
       "    <tr>\n",
       "      <th>730</th>\n",
       "      <td>by atoms, because atoms are not charged partic...</td>\n",
       "      <td>the northern lights arent</td>\n",
       "      <td>The northern lights arent caused by atoms, bec...</td>\n",
       "    </tr>\n",
       "    <tr>\n",
       "      <th>731</th>\n",
       "      <td>shaking</td>\n",
       "      <td>carbon dioxide to come out of the cola solutio...</td>\n",
       "      <td>Shaking causes carbon dioxide to come out of t...</td>\n",
       "    </tr>\n",
       "    <tr>\n",
       "      <th>732</th>\n",
       "      <td>a convex lens</td>\n",
       "      <td>rays of light to converge, or meet, at a point...</td>\n",
       "      <td>A convex lens causes rays of light to converge...</td>\n",
       "    </tr>\n",
       "    <tr>\n",
       "      <th>733</th>\n",
       "      <td>the disturbance that</td>\n",
       "      <td>an earthquake sends longitudinal waves through...</td>\n",
       "      <td>The disturbance that causes an earthquake send...</td>\n",
       "    </tr>\n",
       "    <tr>\n",
       "      <th>734</th>\n",
       "      <td>fireworks to create brilliant bursts of light ...</td>\n",
       "      <td>it wasnt until scientists had learned about el...</td>\n",
       "      <td>It wasnt until scientists had learned about el...</td>\n",
       "    </tr>\n",
       "    <tr>\n",
       "      <th>735</th>\n",
       "      <td>the unbalanced force</td>\n",
       "      <td>the skateboard to turn toward the other side.</td>\n",
       "      <td>The unbalanced force causes the skateboard to ...</td>\n",
       "    </tr>\n",
       "    <tr>\n",
       "      <th>736</th>\n",
       "      <td>universal gravitation means that the force that</td>\n",
       "      <td>an apple to fall from a tree to the ground is ...</td>\n",
       "      <td>Universal gravitation means that the force tha...</td>\n",
       "    </tr>\n",
       "    <tr>\n",
       "      <th>737</th>\n",
       "      <td>the steam is under pressure and</td>\n",
       "      <td>a turbine to spin.</td>\n",
       "      <td>The steam is under pressure and causes a turbi...</td>\n",
       "    </tr>\n",
       "    <tr>\n",
       "      <th>738</th>\n",
       "      <td>the air pollution also</td>\n",
       "      <td>acid rain and contributes to global warming.</td>\n",
       "      <td>The air pollution also causes acid rain and co...</td>\n",
       "    </tr>\n",
       "    <tr>\n",
       "      <th>739</th>\n",
       "      <td>by rays of energy, like rays of light or x-rays.</td>\n",
       "      <td>becquerel wanted to see if the glow was</td>\n",
       "      <td>Becquerel wanted to see if the glow was caused...</td>\n",
       "    </tr>\n",
       "    <tr>\n",
       "      <th>740</th>\n",
       "      <td>they learned that its author had received a la...</td>\n",
       "      <td>autism, so he faked his research results.</td>\n",
       "      <td>They learned that its author had received a la...</td>\n",
       "    </tr>\n",
       "    <tr>\n",
       "      <th>741</th>\n",
       "      <td>the moving string repeatedly pushes against th...</td>\n",
       "      <td>the air particles to vibrate.</td>\n",
       "      <td>The moving string repeatedly pushes against th...</td>\n",
       "    </tr>\n",
       "    <tr>\n",
       "      <th>742</th>\n",
       "      <td>by wind blowing across the water.</td>\n",
       "      <td>a: most ocean waves are</td>\n",
       "      <td>A: Most ocean waves are caused by wind blowing...</td>\n",
       "    </tr>\n",
       "    <tr>\n",
       "      <th>743</th>\n",
       "      <td>the difference in speed</td>\n",
       "      <td>the waves to get steeper until they topple ove...</td>\n",
       "      <td>The difference in speed causes the waves to ge...</td>\n",
       "    </tr>\n",
       "    <tr>\n",
       "      <th>744</th>\n",
       "      <td>the disturbance that</td>\n",
       "      <td>an earthquake sends transverse waves through u...</td>\n",
       "      <td>The disturbance that causes an earthquake send...</td>\n",
       "    </tr>\n",
       "    <tr>\n",
       "      <th>745</th>\n",
       "      <td>a: a concave lens</td>\n",
       "      <td>rays of light to diverge, or spread apart.</td>\n",
       "      <td>A: A concave lens causes rays of light to dive...</td>\n",
       "    </tr>\n",
       "    <tr>\n",
       "      <th>746</th>\n",
       "      <td>wave amplitude is determined by the energy of ...</td>\n",
       "      <td>the wave.</td>\n",
       "      <td>Wave amplitude is determined by the energy of ...</td>\n",
       "    </tr>\n",
       "    <tr>\n",
       "      <th>747</th>\n",
       "      <td>by a disturbance with more energy has greater ...</td>\n",
       "      <td>a wave</td>\n",
       "      <td>A wave caused by a disturbance with more energ...</td>\n",
       "    </tr>\n",
       "    <tr>\n",
       "      <th>748</th>\n",
       "      <td>a: wave amplitude is determined by the energy ...</td>\n",
       "      <td>the wave.</td>\n",
       "      <td>A: Wave amplitude is determined by the energy ...</td>\n",
       "    </tr>\n",
       "    <tr>\n",
       "      <th>749</th>\n",
       "      <td>by a disturbance with more energy has greater ...</td>\n",
       "      <td>a wave</td>\n",
       "      <td>A wave caused by a disturbance with more energ...</td>\n",
       "    </tr>\n",
       "    <tr>\n",
       "      <th>750</th>\n",
       "      <td>the wave.</td>\n",
       "      <td>the frequency of a wave is the same as the fre...</td>\n",
       "      <td>The frequency of a wave is the same as the fre...</td>\n",
       "    </tr>\n",
       "    <tr>\n",
       "      <th>751</th>\n",
       "      <td>with a compass, he demonstrated that it the sp...</td>\n",
       "      <td>a compass needle to behave the same way that e...</td>\n",
       "      <td>With a compass, he demonstrated that it the sp...</td>\n",
       "    </tr>\n",
       "  </tbody>\n",
       "</table>\n",
       "<p>752 rows × 3 columns</p>\n",
       "</div>"
      ],
      "text/plain": [
       "                                                 cause  \\\n",
       "0    A mountain stream flows very quickly because o...   \n",
       "1    The water erodes the softer rock faster than t...   \n",
       "2             Most waves strike the shore at an angle.   \n",
       "3    Dust flew into the atmosphere and blocked sunl...   \n",
       "4    As a result: Water on the side of Earth facing...   \n",
       "5                    If the water freezes, it expands.   \n",
       "6     Earth is spinning as air moves over its surface.   \n",
       "7    An ice age is a period when temperatures are c...   \n",
       "8    Figure 17.23 shows how much less sea ice there...   \n",
       "9    During an El Nio, the western Pacific Ocean is...   \n",
       "10   As the death rate fell, the birth rate stayed ...   \n",
       "11              Burning fossil fuels pollutes the air.   \n",
       "12   Many people must drink water that contains was...   \n",
       "13   Thermal pollution is pollution that raises the...   \n",
       "14   Large meteorites broke through the Moons newly...   \n",
       "15   As the Moon moves around the Earth, we see dif...   \n",
       "16   The pressure at the center of a star is great ...   \n",
       "17      Burning gasoline also produces carbon dioxide.   \n",
       "18   Seismic waves change speed as they move throug...   \n",
       "19            An earthquake is sudden ground movement.   \n",
       "20                         They settled into the muck.   \n",
       "21   This is the result of magma pushing upward int...   \n",
       "22   In six months, after Earth moves from one side...   \n",
       "23   But space itself is stretching out between gal...   \n",
       "24   This was the only known mass extinction of ins...   \n",
       "25   If precipitation falls as the air rises over t...   \n",
       "26   You can trace the deformation a rock has exper...   \n",
       "27   Although the stars move across the sky, they s...   \n",
       "28   The warm air near the surface rises and cool a...   \n",
       "29   As with wind waves, the speed of the bottom of...   \n",
       "..                                                 ...   \n",
       "722                                           friction   \n",
       "723                  when the oval window vibrates, it   \n",
       "724                      when the cochlea vibrates, it   \n",
       "725  by loud sounds can be prevented by protecting ...   \n",
       "726                       by loud sounds is permanent.   \n",
       "727  he proposed that natural events such as lightn...   \n",
       "728                                         a: natural   \n",
       "729                             the turning driveshaft   \n",
       "730  by atoms, because atoms are not charged partic...   \n",
       "731                                            shaking   \n",
       "732                                      a convex lens   \n",
       "733                               the disturbance that   \n",
       "734  fireworks to create brilliant bursts of light ...   \n",
       "735                               the unbalanced force   \n",
       "736    universal gravitation means that the force that   \n",
       "737                    the steam is under pressure and   \n",
       "738                             the air pollution also   \n",
       "739   by rays of energy, like rays of light or x-rays.   \n",
       "740  they learned that its author had received a la...   \n",
       "741  the moving string repeatedly pushes against th...   \n",
       "742                  by wind blowing across the water.   \n",
       "743                            the difference in speed   \n",
       "744                               the disturbance that   \n",
       "745                                  a: a concave lens   \n",
       "746  wave amplitude is determined by the energy of ...   \n",
       "747  by a disturbance with more energy has greater ...   \n",
       "748  a: wave amplitude is determined by the energy ...   \n",
       "749  by a disturbance with more energy has greater ...   \n",
       "750                                          the wave.   \n",
       "751  with a compass, he demonstrated that it the sp...   \n",
       "\n",
       "                                                effect  \\\n",
       "0         a lot of erosion and very little deposition.   \n",
       "1    the stream bed to drop down, like a step, crea...   \n",
       "2                                     longshore drift.   \n",
       "3              a deep freeze and ended photosynthesis.   \n",
       "4              a bulge of water on that side of Earth.   \n",
       "5                           causes the rocks to crack.   \n",
       "6                                 the Coriolis effect.   \n",
       "7               glaciers to spread to lower latitudes.   \n",
       "8                 cause sea level to rise even higher.   \n",
       "9                 the trade winds to change direction.   \n",
       "10                            rapid population growth.   \n",
       "11                    increases causes global warming.   \n",
       "12                         a lot of illness and death.   \n",
       "13   caused by power plants and factories that use ...   \n",
       "14             magma to flow out and fill the craters.   \n",
       "15                             the phases of the Moon.   \n",
       "16                           nuclear fusion reactions.   \n",
       "17   a greenhouse gas and is a cause of global warm...   \n",
       "18                                       them to bend.   \n",
       "19   is caused by the sudden release of the energy ...   \n",
       "20                                    enormous damage.   \n",
       "21    causes stresses on neighboring rock to build up.   \n",
       "22   parallax causes the star to appear in a differ...   \n",
       "23   of space, which increases the distance between...   \n",
       "24   extinction appears to have taken place in thre...   \n",
       "25   sinking air causes a rainshadow effect (Figure...   \n",
       "26   produces geologic structures such as folds, jo...   \n",
       "27   because the apparent nightly motion of the sta...   \n",
       "28   causes the temperature gradient to vary with t...   \n",
       "29   the wavelength to decrease and the wave to bec...   \n",
       "..                                                 ...   \n",
       "722  the molecules on rubbing surfaces to move fast...   \n",
       "723                    the cochlea to vibrate as well.   \n",
       "724                         waves in the fluid inside.   \n",
       "725                                       hearing loss   \n",
       "726                                       hearing loss   \n",
       "727                                                      \n",
       "728  can be investigated and understood, whereas go...   \n",
       "729                     the wheels of the car to turn.   \n",
       "730                          the northern lights arent   \n",
       "731  carbon dioxide to come out of the cola solutio...   \n",
       "732  rays of light to converge, or meet, at a point...   \n",
       "733  an earthquake sends longitudinal waves through...   \n",
       "734  it wasnt until scientists had learned about el...   \n",
       "735      the skateboard to turn toward the other side.   \n",
       "736  an apple to fall from a tree to the ground is ...   \n",
       "737                                 a turbine to spin.   \n",
       "738       acid rain and contributes to global warming.   \n",
       "739            becquerel wanted to see if the glow was   \n",
       "740          autism, so he faked his research results.   \n",
       "741                      the air particles to vibrate.   \n",
       "742                            a: most ocean waves are   \n",
       "743  the waves to get steeper until they topple ove...   \n",
       "744  an earthquake sends transverse waves through u...   \n",
       "745         rays of light to diverge, or spread apart.   \n",
       "746                                          the wave.   \n",
       "747                                             a wave   \n",
       "748                                          the wave.   \n",
       "749                                             a wave   \n",
       "750  the frequency of a wave is the same as the fre...   \n",
       "751  a compass needle to behave the same way that e...   \n",
       "\n",
       "                                                source  \n",
       "0    A mountain stream flows very quickly because o...  \n",
       "1    The water erodes the softer rock faster than t...  \n",
       "2    Most waves strike the shore at an angle. This ...  \n",
       "3    Dust flew into the atmosphere and blocked sunl...  \n",
       "4    As a result: Water on the side of Earth facing...  \n",
       "5    If the water freezes, it expands. This eventua...  \n",
       "6    Earth is spinning as air moves over its surfac...  \n",
       "7    An ice age is a period when temperatures are c...  \n",
       "8    Figure 17.23 shows how much less sea ice there...  \n",
       "9    During an El Nio, the western Pacific Ocean is...  \n",
       "10   As the death rate fell, the birth rate stayed ...  \n",
       "11   Burning fossil fuels pollutes the air. This al...  \n",
       "12   Many people must drink water that contains was...  \n",
       "13   Thermal pollution is pollution that raises the...  \n",
       "14   Large meteorites broke through the Moons newly...  \n",
       "15   As the Moon moves around the Earth, we see dif...  \n",
       "16   The pressure at the center of a star is great ...  \n",
       "17   Burning gasoline also produces carbon dioxide....  \n",
       "18   Seismic waves change speed as they move throug...  \n",
       "19   An earthquake is sudden ground movement. This ...  \n",
       "20   They settled into the muck. This caused enormo...  \n",
       "21   This is the result of magma pushing upward int...  \n",
       "22   In six months, after Earth moves from one side...  \n",
       "23   But space itself is stretching out between gal...  \n",
       "24   This was the only known mass extinction of ins...  \n",
       "25   If precipitation falls as the air rises over t...  \n",
       "26   You can trace the deformation a rock has exper...  \n",
       "27   Although the stars move across the sky, they s...  \n",
       "28   The warm air near the surface rises and cool a...  \n",
       "29   As with wind waves, the speed of the bottom of...  \n",
       "..                                                 ...  \n",
       "722  Friction causes the molecules on rubbing surfa...  \n",
       "723  When the oval window vibrates, it causes the c...  \n",
       "724  When the cochlea vibrates, it causes waves in ...  \n",
       "725  Hearing loss caused by loud sounds can be prev...  \n",
       "726   Hearing loss caused by loud sounds is permanent.  \n",
       "727  He proposed that natural events such as lightn...  \n",
       "728  A: Natural causes can be investigated and unde...  \n",
       "729  The turning driveshaft causes the wheels of th...  \n",
       "730  The northern lights arent caused by atoms, bec...  \n",
       "731  Shaking causes carbon dioxide to come out of t...  \n",
       "732  A convex lens causes rays of light to converge...  \n",
       "733  The disturbance that causes an earthquake send...  \n",
       "734  It wasnt until scientists had learned about el...  \n",
       "735  The unbalanced force causes the skateboard to ...  \n",
       "736  Universal gravitation means that the force tha...  \n",
       "737  The steam is under pressure and causes a turbi...  \n",
       "738  The air pollution also causes acid rain and co...  \n",
       "739  Becquerel wanted to see if the glow was caused...  \n",
       "740  They learned that its author had received a la...  \n",
       "741  The moving string repeatedly pushes against th...  \n",
       "742  A: Most ocean waves are caused by wind blowing...  \n",
       "743  The difference in speed causes the waves to ge...  \n",
       "744  The disturbance that causes an earthquake send...  \n",
       "745  A: A concave lens causes rays of light to dive...  \n",
       "746  Wave amplitude is determined by the energy of ...  \n",
       "747  A wave caused by a disturbance with more energ...  \n",
       "748  A: Wave amplitude is determined by the energy ...  \n",
       "749  A wave caused by a disturbance with more energ...  \n",
       "750  The frequency of a wave is the same as the fre...  \n",
       "751  With a compass, he demonstrated that it the sp...  \n",
       "\n",
       "[752 rows x 3 columns]"
      ]
     },
     "execution_count": 599,
     "metadata": {},
     "output_type": "execute_result"
    }
   ],
   "source": [
    "tqa_c_and_e_df"
   ]
  },
  {
   "cell_type": "markdown",
   "metadata": {},
   "source": [
    "## extract_questions"
   ]
  },
  {
   "cell_type": "code",
   "execution_count": 549,
   "metadata": {
    "run_control": {
     "marked": false
    }
   },
   "outputs": [],
   "source": [
    "build_ndqs = [list(dict_key_extract('nonDiagramQuestions', lesson))[0] for lesson in ck12_combined_dataset]\n",
    "build_dqs = [list(dict_key_extract('diagramQuestions', lesson))[0] for lesson in ck12_combined_dataset]"
   ]
  },
  {
   "cell_type": "code",
   "execution_count": 550,
   "metadata": {},
   "outputs": [],
   "source": [
    "ndqs = dict(pair for d in build_ndqs for pair in d.items())\n",
    "dqs = dict(pair for d in build_dqs for pair in d.items())"
   ]
  },
  {
   "cell_type": "code",
   "execution_count": null,
   "metadata": {
    "collapsed": true
   },
   "outputs": [],
   "source": []
  },
  {
   "cell_type": "code",
   "execution_count": 584,
   "metadata": {},
   "outputs": [],
   "source": [
    "def filter_causaulity_question(question):\n",
    "    if question['questionType'] == 'Multiple Choice' and question['questionSubType'] != 'Multiple Choice':\n",
    "        return {}\n",
    "    question_text = question['beingAsked']['processedText']\n",
    "    answer_options = ' '.join([ac['rawText'] for ac in question['answerChoices'].values()])\n",
    "    if any(st in question_text for st in cause_phrases):\n",
    "           return {'question_text': question_text, 'answer_options': answer_options, 'correct_answer': question['correctAnswer']['processedText']}\n",
    "    else:\n",
    "        return {}"
   ]
  },
  {
   "cell_type": "code",
   "execution_count": 589,
   "metadata": {},
   "outputs": [],
   "source": [
    "tqa_questions = [filter_causaulity_question(q) for q in ndqs.values()]\n",
    "tqa_questions += [filter_causaulity_question(q) for q in dqs.values()]\n",
    "tqa_questions = [q for q in tqa_questions if q]"
   ]
  },
  {
   "cell_type": "code",
   "execution_count": 591,
   "metadata": {},
   "outputs": [],
   "source": [
    "tqa_q_df = pd.DataFrame(tqa_questions)"
   ]
  },
  {
   "cell_type": "code",
   "execution_count": 592,
   "metadata": {},
   "outputs": [],
   "source": [
    "tqa_q_df = tqa_q_df[['question_text', 'answer_options', 'correct_answer']]"
   ]
  },
  {
   "cell_type": "code",
   "execution_count": 593,
   "metadata": {},
   "outputs": [],
   "source": [
    "tqa_q_df.to_csv('tqa_causality_questions.tsv', index=False, sep='\\t')"
   ]
  },
  {
   "cell_type": "code",
   "execution_count": null,
   "metadata": {
    "collapsed": true
   },
   "outputs": [],
   "source": []
  },
  {
   "cell_type": "code",
   "execution_count": 598,
   "metadata": {},
   "outputs": [],
   "source": [
    "tqa_q_list = tqa_q_df['question_text'].tolist()"
   ]
  },
  {
   "cell_type": "code",
   "execution_count": null,
   "metadata": {
    "collapsed": true
   },
   "outputs": [],
   "source": []
  },
  {
   "cell_type": "markdown",
   "metadata": {
    "heading_collapsed": true
   },
   "source": [
    "# Explore Omnibus Questions"
   ]
  },
  {
   "cell_type": "code",
   "execution_count": 132,
   "metadata": {
    "collapsed": true,
    "hidden": true,
    "run_control": {
     "frozen": false,
     "read_only": false
    }
   },
   "outputs": [],
   "source": [
    "dataset_root_dir = './data_sources/'\n",
    "omni_file = 'Omnibus 4 NDMC Train Topic+Category Performance [For a good cause] - Aristo per 2016%2F06%2F24.csv'\n",
    "omni_path =  os.path.join(dataset_root_dir, omni_file)\n",
    "\n",
    "omni_df = pd.read_csv(omni_path, error_bad_lines=False)\n",
    "omni_df = omni_df.fillna('NA')\n",
    "omni_cause_df\n",
    "\n",
    "omni_cause_df = omni_df[omni_df['Category'].str.contains('causality')]\n",
    "omni_df_working = omni_cause_df[['QID', 'AnswerKey', 'QuestionText']]"
   ]
  },
  {
   "cell_type": "code",
   "execution_count": 128,
   "metadata": {
    "collapsed": true,
    "hidden": true,
    "run_control": {
     "frozen": false,
     "read_only": false
    }
   },
   "outputs": [],
   "source": [
    "omni_cause_df_simple = omni_df[omni_df['Category'] == 'causality']\n",
    "omni_df_working_simple = omni_cause_df_simple[['QID', 'AnswerKey', 'QuestionText']]"
   ]
  },
  {
   "cell_type": "code",
   "execution_count": 130,
   "metadata": {
    "collapsed": true,
    "hidden": true,
    "run_control": {
     "frozen": false,
     "read_only": false
    }
   },
   "outputs": [],
   "source": [
    "# omni_df_working_simple"
   ]
  },
  {
   "cell_type": "code",
   "execution_count": 135,
   "metadata": {
    "hidden": true,
    "run_control": {
     "frozen": false,
     "read_only": false
    }
   },
   "outputs": [
    {
     "name": "stdout",
     "output_type": "stream",
     "text": [
      "As Chita pumps air into her beach ball, the ball gets larger and becomes round. This best explanation for this is that air ___. (A) expands when it gets warm (B) takes up space (C) is lighter than oxygen (D) has definite shape \n",
      "\n",
      "Which results in a chemical change? (A) A student smells a flower. (B) A teacher lights a candle. (C) A student colors a paper blue. (D) A teacher feels a rough cloth. \n",
      "\n",
      "Automobiles move as a result of which type of energy transformation? (A) Chemical to electrical (B) Mechanical to heat (C) Chemical to mechanical (D) Kinetic to potential \n",
      "\n",
      "Which force causes a marble to sink to the bottom of a glass of water? (A) gravity (B) friction (C) magnetism (D) electricity \n",
      "\n",
      "A squirrel gathering nuts helps trees (A) grow. (B) reproduce. (C) resist disease. (D) become stronger. \n",
      "\n"
     ]
    }
   ],
   "source": [
    "q_sample = np.random.choice(omni_df_working_simple['QuestionText'], 5).tolist()\n",
    "_ = [print(q, '\\n') for q in q_sample]"
   ]
  },
  {
   "cell_type": "markdown",
   "metadata": {
    "heading_collapsed": true
   },
   "source": [
    "# Explore other existing questions"
   ]
  },
  {
   "cell_type": "code",
   "execution_count": 192,
   "metadata": {
    "collapsed": true,
    "hidden": true,
    "run_control": {
     "frozen": false,
     "read_only": false
    }
   },
   "outputs": [],
   "source": [
    "%%capture\n",
    "simple_cause_q_df = pd.read_csv(dataset_root_dir + 'causality-questions-simple-list.tsv', sep='(', header=None, error_bad_lines=False)"
   ]
  },
  {
   "cell_type": "code",
   "execution_count": 171,
   "metadata": {
    "hidden": true,
    "run_control": {
     "frozen": false,
     "read_only": false
    }
   },
   "outputs": [
    {
     "data": {
      "text/html": [
       "<div>\n",
       "<style>\n",
       "    .dataframe thead tr:only-child th {\n",
       "        text-align: right;\n",
       "    }\n",
       "\n",
       "    .dataframe thead th {\n",
       "        text-align: left;\n",
       "    }\n",
       "\n",
       "    .dataframe tbody tr th {\n",
       "        vertical-align: top;\n",
       "    }\n",
       "</style>\n",
       "<table border=\"1\" class=\"dataframe\">\n",
       "  <thead>\n",
       "    <tr style=\"text-align: right;\">\n",
       "      <th></th>\n",
       "      <th>0</th>\n",
       "      <th>1</th>\n",
       "      <th>2</th>\n",
       "      <th>3</th>\n",
       "      <th>4</th>\n",
       "    </tr>\n",
       "  </thead>\n",
       "  <tbody>\n",
       "    <tr>\n",
       "      <th>0</th>\n",
       "      <td>When ice melts, it becomes a</td>\n",
       "      <td>A) gas.</td>\n",
       "      <td>B) solid.</td>\n",
       "      <td>C) liquid.</td>\n",
       "      <td>D) plasma.\\t</td>\n",
       "    </tr>\n",
       "    <tr>\n",
       "      <th>1</th>\n",
       "      <td>What can a flower become?</td>\n",
       "      <td>A) a fruit</td>\n",
       "      <td>B) a leaf</td>\n",
       "      <td>C) a stem</td>\n",
       "      <td>D) a branch\\t</td>\n",
       "    </tr>\n",
       "  </tbody>\n",
       "</table>\n",
       "</div>"
      ],
      "text/plain": [
       "                                    0            1           2            3  \\\n",
       "0       When ice melts, it becomes a      A) gas.   B) solid.   C) liquid.    \n",
       "1          What can a flower become?   A) a fruit   B) a leaf    C) a stem    \n",
       "\n",
       "               4  \n",
       "0   D) plasma.\\t  \n",
       "1  D) a branch\\t  "
      ]
     },
     "execution_count": 171,
     "metadata": {},
     "output_type": "execute_result"
    }
   ],
   "source": [
    "simple_cause_q_df.head(2)"
   ]
  },
  {
   "cell_type": "code",
   "execution_count": 143,
   "metadata": {
    "collapsed": true,
    "hidden": true,
    "run_control": {
     "frozen": false,
     "read_only": false
    }
   },
   "outputs": [],
   "source": [
    "tushar_questions = pd.read_csv( dataset_root_dir + 'causal_questions_with_extracted_relations.tsv', sep='\\t')"
   ]
  },
  {
   "cell_type": "code",
   "execution_count": 145,
   "metadata": {
    "hidden": true,
    "run_control": {
     "frozen": false,
     "read_only": false
    }
   },
   "outputs": [
    {
     "data": {
      "text/plain": [
       "(371, 5)"
      ]
     },
     "execution_count": 145,
     "metadata": {},
     "output_type": "execute_result"
    }
   ],
   "source": [
    "tushar_questions.shape"
   ]
  },
  {
   "cell_type": "code",
   "execution_count": 150,
   "metadata": {
    "collapsed": true,
    "hidden": true,
    "run_control": {
     "frozen": false,
     "read_only": false
    }
   },
   "outputs": [],
   "source": [
    "tushar_questions_contains_cause = tushar_questions[tushar_questions['Question text'].str.contains('cause')]"
   ]
  },
  {
   "cell_type": "code",
   "execution_count": 153,
   "metadata": {
    "hidden": true,
    "run_control": {
     "frozen": false,
     "read_only": false
    }
   },
   "outputs": [
    {
     "data": {
      "text/plain": [
       "(86, 5)"
      ]
     },
     "execution_count": 153,
     "metadata": {},
     "output_type": "execute_result"
    }
   ],
   "source": [
    "tushar_questions_contains_cause.shape"
   ]
  },
  {
   "cell_type": "code",
   "execution_count": 156,
   "metadata": {
    "collapsed": true,
    "hidden": true,
    "run_control": {
     "frozen": false,
     "read_only": false
    }
   },
   "outputs": [],
   "source": [
    "# tushar_questions_contains_cause['Complete question']"
   ]
  },
  {
   "cell_type": "code",
   "execution_count": 158,
   "metadata": {
    "hidden": true,
    "run_control": {
     "frozen": false,
     "read_only": false
    }
   },
   "outputs": [
    {
     "name": "stdout",
     "output_type": "stream",
     "text": [
      "Which would cause the most soil to erode from a river bank in just a few days? \n",
      "\n",
      "The Grand Canyon is a perfect example of ___, over millions of years, caused by the flow of the Colorado River. \n",
      "\n",
      "What does a mirror do to light that causes objects to appear backwards? \n",
      "\n",
      "Desert environments receive very little rainfall each year and water is a very limited resource. Because of this limited amount of water, we would expect \n",
      "\n",
      "Physical weathering is caused by water freezing and thawing because water ___. \n",
      "\n"
     ]
    }
   ],
   "source": [
    "q_sample = np.random.choice(tushar_questions_contains_cause['Question text'], 5).tolist()\n",
    "_ = [print(q, '\\n') for q in q_sample]"
   ]
  },
  {
   "cell_type": "markdown",
   "metadata": {
    "hidden": true
   },
   "source": [
    "Rules:\n",
    "\n",
    "\n"
   ]
  },
  {
   "cell_type": "markdown",
   "metadata": {
    "heading_collapsed": true
   },
   "source": [
    "# Explore existing KBs"
   ]
  },
  {
   "cell_type": "code",
   "execution_count": 74,
   "metadata": {
    "collapsed": true,
    "hidden": true,
    "run_control": {
     "frozen": false,
     "read_only": false
    }
   },
   "outputs": [],
   "source": [
    "cause_rel_tables_df = pd.read_csv(dataset_root_dir + 'cause_relations_from_tables.tsv', sep='\\t', header=None)\n",
    "cause_rel_tables_df.columns = ['cause', '_', 'effect', 'source']\n",
    "cause_rel_tables_df = cause_rel_tables_df[['cause', 'effect', 'source']]"
   ]
  },
  {
   "cell_type": "code",
   "execution_count": 82,
   "metadata": {
    "collapsed": true,
    "hidden": true,
    "run_control": {
     "frozen": false,
     "read_only": false
    }
   },
   "outputs": [],
   "source": [
    "cause_ferret = pd.read_csv(dataset_root_dir + 'CAUSE-extracted-by-Ferret-from-WebSentences.tsv', sep='\\t', header=None)\n",
    "effect_ferret = pd.read_csv(dataset_root_dir + 'EFFECT-extracted-by-Ferret-from-WebSentences.tsv', sep='\\t', header=None)\n",
    "cause_ferret.columns = ['cause', '_', 'effect', 'source']\n",
    "cause_ferret = cause_ferret[['cause', 'effect', 'source']]"
   ]
  },
  {
   "cell_type": "code",
   "execution_count": 88,
   "metadata": {
    "collapsed": true,
    "hidden": true,
    "run_control": {
     "frozen": false,
     "read_only": false
    }
   },
   "outputs": [],
   "source": [
    "concept_net = pd.read_csv(dataset_root_dir + 'conceptnet-causal-db.tsv', sep='\\t', header=None)\n",
    "concept_net.columns = ['cause', '_', 'effect']\n",
    "concept_net = concept_net[['cause', 'effect']]"
   ]
  },
  {
   "cell_type": "code",
   "execution_count": 177,
   "metadata": {
    "hidden": true,
    "run_control": {
     "frozen": false,
     "read_only": false
    }
   },
   "outputs": [
    {
     "data": {
      "text/plain": [
       "(308, 3)"
      ]
     },
     "execution_count": 177,
     "metadata": {},
     "output_type": "execute_result"
    }
   ],
   "source": [
    "cause_rel_tables_df.shape"
   ]
  },
  {
   "cell_type": "code",
   "execution_count": null,
   "metadata": {
    "collapsed": true,
    "hidden": true,
    "run_control": {
     "frozen": false,
     "read_only": false
    }
   },
   "outputs": [],
   "source": []
  }
 ],
 "metadata": {
  "kernelspec": {
   "display_name": "Python 3",
   "language": "python",
   "name": "python3"
  },
  "language_info": {
   "codemirror_mode": {
    "name": "ipython",
    "version": 3
   },
   "file_extension": ".py",
   "mimetype": "text/x-python",
   "name": "python",
   "nbconvert_exporter": "python",
   "pygments_lexer": "ipython3",
   "version": "3.6.2"
  }
 },
 "nbformat": 4,
 "nbformat_minor": 2
}
